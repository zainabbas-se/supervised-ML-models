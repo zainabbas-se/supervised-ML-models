{
  "nbformat": 4,
  "nbformat_minor": 0,
  "metadata": {
    "colab": {
      "provenance": []
    },
    "kernelspec": {
      "name": "python3",
      "display_name": "Python 3"
    },
    "language_info": {
      "name": "python"
    }
  },
  "cells": [
    {
      "cell_type": "code",
      "execution_count": 4,
      "metadata": {
        "id": "c6GFtaNJNDiT"
      },
      "outputs": [],
      "source": [
        "import numpy as np\n",
        "import statistics\n",
        "import pandas as pd\n",
        "from sklearn.model_selection import train_test_split\n",
        "from sklearn.metrics import accuracy_score"
      ]
    },
    {
      "cell_type": "markdown",
      "source": [
        "KNN_Classifier Custom Class"
      ],
      "metadata": {
        "id": "l_9m92mrkRmN"
      }
    },
    {
      "cell_type": "code",
      "source": [
        "class KNN_Classifier():\n",
        "    def __init__(self, distance_metric):\n",
        "        self.distance_metric = distance_metric\n",
        "\n",
        "    def get_distance_metric(self, train_data_point, test_data_point):  # Compute distance between a training and test data point\n",
        "        if self.distance_metric == 'euclidean':\n",
        "            dist = 0\n",
        "            for i in range(len(train_data_point) - 1):\n",
        "                dist += (train_data_point[i] - test_data_point[i]) ** 2\n",
        "            return np.sqrt(dist)  # Return Euclidean distance\n",
        "\n",
        "        if self.distance_metric == 'manhattan':\n",
        "            dist = 0\n",
        "            for i in range(len(train_data_point) - 1):\n",
        "                dist += abs(train_data_point[i] - test_data_point[i])\n",
        "            return dist  # Return Manhattan distance\n",
        "\n",
        "    def nearest_neighbors(self, X_train, test_data, k):  # Find the k-nearest neighbors based on distance\n",
        "        distance_list = []\n",
        "        for training_data in X_train:\n",
        "            distance = self.get_distance_metric(training_data, test_data)\n",
        "            distance_list.append((training_data, distance))\n",
        "\n",
        "        distance_list.sort(key=lambda x: x[1])  # Sort by distance\n",
        "\n",
        "        # Select the k closest neighbors\n",
        "        neighbors_list = [distance_list[j][0] for j in range(k)]\n",
        "        return neighbors_list\n",
        "\n",
        "    def predict(self, X_train, test_data, k):  # Predict the class label based on k-nearest neighbors\n",
        "        neighbors = self.nearest_neighbors(X_train, test_data, k)\n",
        "\n",
        "        label = []\n",
        "        for data in neighbors:\n",
        "            label.append(data[-1])\n",
        "\n",
        "        return statistics.mode(label)  # Return the most common label\n"
      ],
      "metadata": {
        "id": "YKRITCz-QSdC"
      },
      "execution_count": 5,
      "outputs": []
    },
    {
      "cell_type": "code",
      "source": [
        "df = pd.read_csv('/content/diabetes.csv')"
      ],
      "metadata": {
        "id": "XhGBQbjCQhhr"
      },
      "execution_count": 6,
      "outputs": []
    },
    {
      "cell_type": "code",
      "source": [
        "print(df)"
      ],
      "metadata": {
        "colab": {
          "base_uri": "https://localhost:8080/"
        },
        "id": "aY3ociCIQpzK",
        "outputId": "2345ff9f-9b3b-45f1-b905-41aee96a8057"
      },
      "execution_count": 7,
      "outputs": [
        {
          "output_type": "stream",
          "name": "stdout",
          "text": [
            "     Index  Pregnancies  Glucose  BloodPressure  SkinThickness  Insulin   BMI  \\\n",
            "0      0.0            6      148             72             35        0  33.6   \n",
            "1      1.0            1       85             66             29        0  26.6   \n",
            "2      2.0            8      183             64              0        0  23.3   \n",
            "3      3.0            1       89             66             23       94  28.1   \n",
            "4      4.0            0      137             40             35      168  43.1   \n",
            "..     ...          ...      ...            ...            ...      ...   ...   \n",
            "763    NaN           10      101             76             48      180  32.9   \n",
            "764    NaN            2      122             70             27        0  36.8   \n",
            "765    NaN            5      121             72             23      112  26.2   \n",
            "766    NaN            1      126             60              0        0  30.1   \n",
            "767    NaN            1       93             70             31        0  30.4   \n",
            "\n",
            "     DiabetesPedigreeFunction  Age  Outcome  Outcome.1  \n",
            "0                       0.627   50        1        1.0  \n",
            "1                       0.351   31        0       -1.0  \n",
            "2                       0.672   32        1        1.0  \n",
            "3                       0.167   21        0       -1.0  \n",
            "4                       2.288   33        1        1.0  \n",
            "..                        ...  ...      ...        ...  \n",
            "763                     0.171   63        0        NaN  \n",
            "764                     0.340   27        0        NaN  \n",
            "765                     0.245   30        0        NaN  \n",
            "766                     0.349   47        1        NaN  \n",
            "767                     0.315   23        0        NaN  \n",
            "\n",
            "[768 rows x 11 columns]\n"
          ]
        }
      ]
    },
    {
      "cell_type": "code",
      "source": [
        "df.info()"
      ],
      "metadata": {
        "colab": {
          "base_uri": "https://localhost:8080/"
        },
        "id": "9yd6Y-NZRNtF",
        "outputId": "b5300323-a61a-422a-e374-65dd180f57c5"
      },
      "execution_count": 8,
      "outputs": [
        {
          "output_type": "stream",
          "name": "stdout",
          "text": [
            "<class 'pandas.core.frame.DataFrame'>\n",
            "RangeIndex: 768 entries, 0 to 767\n",
            "Data columns (total 11 columns):\n",
            " #   Column                    Non-Null Count  Dtype  \n",
            "---  ------                    --------------  -----  \n",
            " 0   Index                     10 non-null     float64\n",
            " 1   Pregnancies               768 non-null    int64  \n",
            " 2   Glucose                   768 non-null    int64  \n",
            " 3   BloodPressure             768 non-null    int64  \n",
            " 4   SkinThickness             768 non-null    int64  \n",
            " 5   Insulin                   768 non-null    int64  \n",
            " 6   BMI                       768 non-null    float64\n",
            " 7   DiabetesPedigreeFunction  768 non-null    float64\n",
            " 8   Age                       768 non-null    int64  \n",
            " 9   Outcome                   768 non-null    int64  \n",
            " 10  Outcome.1                 27 non-null     float64\n",
            "dtypes: float64(4), int64(7)\n",
            "memory usage: 66.1 KB\n"
          ]
        }
      ]
    },
    {
      "cell_type": "code",
      "source": [
        "df.isnull().sum()\n"
      ],
      "metadata": {
        "colab": {
          "base_uri": "https://localhost:8080/",
          "height": 429
        },
        "id": "J_YqdR60RTrc",
        "outputId": "6be1346d-f291-4888-e515-5cc911387687"
      },
      "execution_count": 9,
      "outputs": [
        {
          "output_type": "execute_result",
          "data": {
            "text/plain": [
              "Index                       758\n",
              "Pregnancies                   0\n",
              "Glucose                       0\n",
              "BloodPressure                 0\n",
              "SkinThickness                 0\n",
              "Insulin                       0\n",
              "BMI                           0\n",
              "DiabetesPedigreeFunction      0\n",
              "Age                           0\n",
              "Outcome                       0\n",
              "Outcome.1                   741\n",
              "dtype: int64"
            ],
            "text/html": [
              "<div>\n",
              "<style scoped>\n",
              "    .dataframe tbody tr th:only-of-type {\n",
              "        vertical-align: middle;\n",
              "    }\n",
              "\n",
              "    .dataframe tbody tr th {\n",
              "        vertical-align: top;\n",
              "    }\n",
              "\n",
              "    .dataframe thead th {\n",
              "        text-align: right;\n",
              "    }\n",
              "</style>\n",
              "<table border=\"1\" class=\"dataframe\">\n",
              "  <thead>\n",
              "    <tr style=\"text-align: right;\">\n",
              "      <th></th>\n",
              "      <th>0</th>\n",
              "    </tr>\n",
              "  </thead>\n",
              "  <tbody>\n",
              "    <tr>\n",
              "      <th>Index</th>\n",
              "      <td>758</td>\n",
              "    </tr>\n",
              "    <tr>\n",
              "      <th>Pregnancies</th>\n",
              "      <td>0</td>\n",
              "    </tr>\n",
              "    <tr>\n",
              "      <th>Glucose</th>\n",
              "      <td>0</td>\n",
              "    </tr>\n",
              "    <tr>\n",
              "      <th>BloodPressure</th>\n",
              "      <td>0</td>\n",
              "    </tr>\n",
              "    <tr>\n",
              "      <th>SkinThickness</th>\n",
              "      <td>0</td>\n",
              "    </tr>\n",
              "    <tr>\n",
              "      <th>Insulin</th>\n",
              "      <td>0</td>\n",
              "    </tr>\n",
              "    <tr>\n",
              "      <th>BMI</th>\n",
              "      <td>0</td>\n",
              "    </tr>\n",
              "    <tr>\n",
              "      <th>DiabetesPedigreeFunction</th>\n",
              "      <td>0</td>\n",
              "    </tr>\n",
              "    <tr>\n",
              "      <th>Age</th>\n",
              "      <td>0</td>\n",
              "    </tr>\n",
              "    <tr>\n",
              "      <th>Outcome</th>\n",
              "      <td>0</td>\n",
              "    </tr>\n",
              "    <tr>\n",
              "      <th>Outcome.1</th>\n",
              "      <td>741</td>\n",
              "    </tr>\n",
              "  </tbody>\n",
              "</table>\n",
              "</div><br><label><b>dtype:</b> int64</label>"
            ]
          },
          "metadata": {},
          "execution_count": 9
        }
      ]
    },
    {
      "cell_type": "code",
      "source": [
        "dataframe=df.drop(columns=['Index','Outcome.1'],axis=1)\n"
      ],
      "metadata": {
        "id": "_hm8Bq0NQutq"
      },
      "execution_count": 10,
      "outputs": []
    },
    {
      "cell_type": "code",
      "source": [
        "df['Outcome'].value_counts()  # 0 indicates non-diabetic, 1 indicates diabetic\n"
      ],
      "metadata": {
        "colab": {
          "base_uri": "https://localhost:8080/",
          "height": 178
        },
        "id": "Y9JRYeZg9stB",
        "outputId": "e1fce9a1-46a4-4765-946a-2b3459011e39"
      },
      "execution_count": 11,
      "outputs": [
        {
          "output_type": "execute_result",
          "data": {
            "text/plain": [
              "Outcome\n",
              "0    500\n",
              "1    268\n",
              "Name: count, dtype: int64"
            ],
            "text/html": [
              "<div>\n",
              "<style scoped>\n",
              "    .dataframe tbody tr th:only-of-type {\n",
              "        vertical-align: middle;\n",
              "    }\n",
              "\n",
              "    .dataframe tbody tr th {\n",
              "        vertical-align: top;\n",
              "    }\n",
              "\n",
              "    .dataframe thead th {\n",
              "        text-align: right;\n",
              "    }\n",
              "</style>\n",
              "<table border=\"1\" class=\"dataframe\">\n",
              "  <thead>\n",
              "    <tr style=\"text-align: right;\">\n",
              "      <th></th>\n",
              "      <th>count</th>\n",
              "    </tr>\n",
              "    <tr>\n",
              "      <th>Outcome</th>\n",
              "      <th></th>\n",
              "    </tr>\n",
              "  </thead>\n",
              "  <tbody>\n",
              "    <tr>\n",
              "      <th>0</th>\n",
              "      <td>500</td>\n",
              "    </tr>\n",
              "    <tr>\n",
              "      <th>1</th>\n",
              "      <td>268</td>\n",
              "    </tr>\n",
              "  </tbody>\n",
              "</table>\n",
              "</div><br><label><b>dtype:</b> int64</label>"
            ]
          },
          "metadata": {},
          "execution_count": 11
        }
      ]
    },
    {
      "cell_type": "code",
      "source": [
        "X = dataframe.drop(columns='Outcome', axis=1)  # Select all features (exclude 'Outcome')\n",
        "Y = dataframe['Outcome']                       # Select only the target column ('Outcome')\n"
      ],
      "metadata": {
        "id": "KYaDX01KRIgL"
      },
      "execution_count": 12,
      "outputs": []
    },
    {
      "cell_type": "code",
      "source": [
        "print(\"X =\",X.shape)\n",
        "print(\"Y=\",Y.shape)"
      ],
      "metadata": {
        "colab": {
          "base_uri": "https://localhost:8080/"
        },
        "id": "ZPI9T2ZPSxkT",
        "outputId": "0c8abf35-bbb5-4159-daa1-58dd5e097e36"
      },
      "execution_count": 13,
      "outputs": [
        {
          "output_type": "stream",
          "name": "stdout",
          "text": [
            "X = (768, 8)\n",
            "Y= (768,)\n"
          ]
        }
      ]
    },
    {
      "cell_type": "code",
      "source": [
        "# Convert the Pandas DataFrame to a NumPy array\n",
        "X = X.to_numpy()\n",
        "Y = Y.to_numpy()\n",
        "\n",
        "print(X)\n",
        "print(Y)\n"
      ],
      "metadata": {
        "colab": {
          "base_uri": "https://localhost:8080/"
        },
        "id": "sTBHhf-PRP10",
        "outputId": "e9275bb3-c864-41c3-f763-9beeb85beaa9"
      },
      "execution_count": 14,
      "outputs": [
        {
          "output_type": "stream",
          "name": "stdout",
          "text": [
            "[[  6.    148.     72.    ...  33.6     0.627  50.   ]\n",
            " [  1.     85.     66.    ...  26.6     0.351  31.   ]\n",
            " [  8.    183.     64.    ...  23.3     0.672  32.   ]\n",
            " ...\n",
            " [  5.    121.     72.    ...  26.2     0.245  30.   ]\n",
            " [  1.    126.     60.    ...  30.1     0.349  47.   ]\n",
            " [  1.     93.     70.    ...  30.4     0.315  23.   ]]\n",
            "[1 0 1 0 1 0 1 0 1 1 0 1 0 1 1 1 1 1 0 1 0 0 1 1 1 1 1 0 0 0 0 1 0 0 0 0 0\n",
            " 1 1 1 0 0 0 1 0 1 0 0 1 0 0 0 0 1 0 0 1 0 0 0 0 1 0 0 1 0 1 0 0 0 1 0 1 0\n",
            " 0 0 0 0 1 0 0 0 0 0 1 0 0 0 1 0 0 0 0 1 0 0 0 0 0 1 1 0 0 0 0 0 0 0 0 1 1\n",
            " 1 0 0 1 1 1 0 0 0 1 0 0 0 1 1 0 0 1 1 1 1 1 0 0 0 0 0 0 0 0 0 0 1 0 0 0 0\n",
            " 0 0 0 0 1 0 1 1 0 0 0 1 0 0 0 0 1 1 0 0 0 0 1 1 0 0 0 1 0 1 0 1 0 0 0 0 0\n",
            " 1 1 1 1 1 0 0 1 1 0 1 0 1 1 1 0 0 0 0 0 0 1 1 0 1 0 0 0 1 1 1 1 0 1 1 1 1\n",
            " 0 0 0 0 0 1 0 0 1 1 0 0 0 1 1 1 1 0 0 0 1 1 0 1 0 0 0 0 0 0 0 0 1 1 0 0 0\n",
            " 1 0 1 0 0 1 0 1 0 0 1 1 0 0 0 0 0 1 0 0 0 1 0 0 1 1 0 0 1 0 0 0 1 1 1 0 0\n",
            " 1 0 1 0 1 1 0 1 0 0 1 0 1 1 0 0 1 0 1 0 0 1 0 1 0 1 1 1 0 0 1 0 1 0 0 0 1\n",
            " 0 0 0 0 1 1 1 0 0 0 0 0 0 0 0 0 1 0 0 0 0 0 1 1 1 0 1 1 0 0 1 0 0 1 0 0 1\n",
            " 1 0 0 0 0 1 0 0 1 0 0 0 0 0 0 0 1 1 1 0 0 1 0 0 1 0 0 1 0 1 1 0 1 0 1 0 1\n",
            " 0 1 1 0 0 0 0 1 1 0 1 0 1 0 0 0 0 1 1 0 1 0 1 0 0 0 0 0 1 0 0 0 0 1 0 0 1\n",
            " 1 1 0 0 1 0 0 1 0 0 0 1 0 0 1 0 0 0 0 0 0 0 0 0 1 0 0 0 0 0 0 0 1 0 0 0 1\n",
            " 0 0 0 1 1 0 0 0 0 0 0 0 1 0 0 0 0 1 0 0 0 1 0 0 0 1 0 0 0 1 0 0 0 0 1 1 0\n",
            " 0 0 0 0 0 1 0 0 0 0 0 0 0 0 0 0 0 1 0 0 0 1 1 1 1 0 0 1 1 0 0 0 0 0 0 0 0\n",
            " 0 0 0 0 0 1 1 0 0 0 0 0 0 0 1 0 0 0 0 0 0 0 1 0 1 1 0 0 0 1 0 1 0 1 0 1 0\n",
            " 1 0 0 1 0 0 1 0 0 0 0 1 1 0 1 0 0 0 0 1 1 0 1 0 0 0 1 1 0 0 0 0 0 0 0 0 0\n",
            " 0 1 0 0 0 0 1 0 0 1 0 0 0 1 0 0 0 1 1 1 0 0 0 0 0 0 1 0 0 0 1 0 1 1 1 1 0\n",
            " 1 1 0 0 0 0 0 0 0 1 1 0 1 0 0 1 0 1 0 0 0 0 0 1 0 1 0 1 0 1 1 0 0 0 0 1 1\n",
            " 0 0 0 1 0 1 1 0 0 1 0 0 1 1 0 0 1 0 0 1 0 0 0 0 0 0 0 1 1 1 0 0 0 0 0 0 1\n",
            " 1 0 0 1 0 0 1 0 1 1 1 0 0 1 1 1 0 1 0 1 0 1 0 0 0 0 1 0]\n"
          ]
        }
      ]
    },
    {
      "cell_type": "code",
      "source": [
        "X_train, X_test, Y_train, Y_test = train_test_split(X, Y, test_size=0.2, stratify=Y, random_state=2)  # Hyperparameters\n",
        "# random_state=2 ensures control over how the data is shuffled\n",
        "# stratify=Y ensures the split preserves the original class ratio, maintaining the same proportion of Class 0 and Class 1 in both training and test sets.\n"
      ],
      "metadata": {
        "id": "CR4JebsHRTVc"
      },
      "execution_count": 15,
      "outputs": []
    },
    {
      "cell_type": "code",
      "source": [
        "print(\"Values of the X =\",X_train.shape,X_test.shape)"
      ],
      "metadata": {
        "colab": {
          "base_uri": "https://localhost:8080/"
        },
        "id": "FpD4khdqRqsd",
        "outputId": "bab739cc-5c51-4d2a-8b14-3d13a23a693d"
      },
      "execution_count": 16,
      "outputs": [
        {
          "output_type": "stream",
          "name": "stdout",
          "text": [
            "Values of the X = (614, 8) (154, 8)\n"
          ]
        }
      ]
    },
    {
      "cell_type": "code",
      "source": [
        "print(\"Values of the Y =\",Y_train.shape,Y_test.shape)"
      ],
      "metadata": {
        "colab": {
          "base_uri": "https://localhost:8080/"
        },
        "id": "npw7jLUTUbQE",
        "outputId": "bbb71605-32ce-463c-879d-38f2a259d7c5"
      },
      "execution_count": 17,
      "outputs": [
        {
          "output_type": "stream",
          "name": "stdout",
          "text": [
            "Values of the Y = (614,) (154,)\n"
          ]
        }
      ]
    },
    {
      "cell_type": "code",
      "source": [
        "X_train = np.insert(X_train, 8, Y_train, axis=1)  # Add target column to X_train\n",
        "print(X_train.shape)\n",
        "\n",
        "# Test data is compared to the full training set to find neighbors.\n"
      ],
      "metadata": {
        "id": "fEa22pQLRs4s",
        "colab": {
          "base_uri": "https://localhost:8080/"
        },
        "outputId": "7c631512-8ba2-41cf-f486-01c20ebcb403"
      },
      "execution_count": 18,
      "outputs": [
        {
          "output_type": "stream",
          "name": "stdout",
          "text": [
            "(614, 9)\n"
          ]
        }
      ]
    },
    {
      "cell_type": "code",
      "source": [
        "classifier =KNN_Classifier('euclidean')"
      ],
      "metadata": {
        "id": "FojkgWIzSSM9"
      },
      "execution_count": 19,
      "outputs": []
    },
    {
      "cell_type": "code",
      "source": [
        "print(\"Shape of X_train:\", X_train.shape)\n",
        "print(\"Shape of X_test[0]:\", X_test[0].shape)\n",
        "\n",
        "# Test the classifier on a single sample to check if the model works correctly\n",
        "prediction = classifier.predict(X_train, X_test[0], k=5)\n",
        "\n",
        "print(\"Test sample from X_test:\", X_test[0])\n",
        "print(\"Predicted class:\", prediction)\n"
      ],
      "metadata": {
        "colab": {
          "base_uri": "https://localhost:8080/"
        },
        "id": "-MIFQgL5SeUO",
        "outputId": "c6260d63-115d-4e61-b20f-a27cc28686cd"
      },
      "execution_count": 20,
      "outputs": [
        {
          "output_type": "stream",
          "name": "stdout",
          "text": [
            "Shape of X_train: (614, 9)\n",
            "Shape of X_test[0]: (8,)\n",
            "Test sample from X_test: [  3.    106.     72.      0.      0.     25.8     0.207  27.   ]\n",
            "Predicted class: 0.0\n"
          ]
        }
      ]
    },
    {
      "cell_type": "code",
      "source": [
        "# Predict the class for each test sample in X_test\n",
        "y_pred = []\n",
        "for i in range(X_test.shape[0]):\n",
        "    prediction = classifier.predict(X_train, X_test[i], k=5)\n",
        "    y_pred.append(prediction)\n",
        "\n",
        "print(\"Result =\", y_pred)\n",
        "print(\"Length of Y_pred =\", len(y_pred))\n"
      ],
      "metadata": {
        "colab": {
          "base_uri": "https://localhost:8080/"
        },
        "id": "4L0MdneDUK-3",
        "outputId": "802b2e2c-cc63-41ef-a430-ad1a10093575"
      },
      "execution_count": 24,
      "outputs": [
        {
          "output_type": "stream",
          "name": "stdout",
          "text": [
            "Result = [0.0, 0.0, 0.0, 1.0, 0.0, 0.0, 0.0, 0.0, 0.0, 0.0, 1.0, 0.0, 1.0, 0.0, 0.0, 1.0, 0.0, 0.0, 0.0, 0.0, 0.0, 0.0, 1.0, 0.0, 0.0, 0.0, 0.0, 1.0, 1.0, 1.0, 1.0, 0.0, 0.0, 1.0, 0.0, 0.0, 0.0, 0.0, 0.0, 0.0, 1.0, 0.0, 0.0, 0.0, 0.0, 0.0, 1.0, 0.0, 0.0, 0.0, 0.0, 0.0, 1.0, 0.0, 1.0, 0.0, 0.0, 0.0, 0.0, 0.0, 0.0, 0.0, 0.0, 0.0, 1.0, 1.0, 0.0, 0.0, 1.0, 0.0, 1.0, 1.0, 0.0, 0.0, 0.0, 0.0, 0.0, 0.0, 0.0, 0.0, 0.0, 0.0, 0.0, 0.0, 0.0, 1.0, 0.0, 0.0, 1.0, 0.0, 1.0, 0.0, 1.0, 0.0, 0.0, 1.0, 0.0, 0.0, 1.0, 0.0, 0.0, 0.0, 0.0, 0.0, 0.0, 0.0, 0.0, 0.0, 0.0, 0.0, 1.0, 0.0, 0.0, 0.0, 0.0, 1.0, 0.0, 0.0, 1.0, 1.0, 0.0, 0.0, 0.0, 1.0, 0.0, 0.0, 0.0, 0.0, 0.0, 0.0, 0.0, 1.0, 1.0, 0.0, 0.0, 0.0, 0.0, 0.0, 0.0, 0.0, 1.0, 0.0, 0.0, 0.0, 0.0, 1.0, 0.0, 0.0, 0.0, 0.0, 1.0, 0.0, 0.0, 1.0]\n",
            "Length of Y_pred = 154\n"
          ]
        }
      ]
    },
    {
      "cell_type": "code",
      "source": [
        "y_pred = np.array(y_pred, dtype=int)  # Convert list to NumPy array with integer type\n",
        "\n",
        "accuracy = accuracy_score(Y_test, y_pred)\n",
        "print(\"Accuracy:\", accuracy)\n"
      ],
      "metadata": {
        "colab": {
          "base_uri": "https://localhost:8080/"
        },
        "id": "clPX4GUkqBNx",
        "outputId": "bf421b5f-6728-40a6-8a1c-be67843c1355"
      },
      "execution_count": 25,
      "outputs": [
        {
          "output_type": "stream",
          "name": "stdout",
          "text": [
            "Accuracy: 0.7272727272727273\n"
          ]
        }
      ]
    },
    {
      "cell_type": "code",
      "source": [
        "import numpy as np\n",
        "from sklearn.model_selection import train_test_split\n",
        "from sklearn.neighbors import KNeighborsClassifier\n",
        "from sklearn.metrics import accuracy_score\n",
        "\n",
        "X_train, X_test, Y_train, Y_test = train_test_split(X, Y, test_size=0.2, stratify=Y, random_state=2)\n",
        "\n",
        "k = 5\n",
        "\n",
        "# Train Scikit-learn KNN model\n",
        "sklearn_knn = KNeighborsClassifier(n_neighbors=k)\n",
        "sklearn_knn.fit(X_train, Y_train)\n",
        "\n",
        "print(\"X_train shape:\", X_train.shape)\n",
        "print(\"Y_train shape:\", Y_train.shape)\n",
        "\n",
        "X_train = np.insert(X_train, 8, Y_train, axis=1)\n",
        "\n",
        "# Make predictions using Scikit-learn KNN\n",
        "sklearn_predictions = sklearn_knn.predict(X_test)\n",
        "\n",
        "# Calculate accuracy\n",
        "sklearn_accuracy = accuracy_score(Y_test, sklearn_predictions)\n",
        "print(\"Scikit-learn KNN Accuracy:\", sklearn_accuracy)\n",
        "\n",
        "# Compare predictions between custom and Scikit-learn KNN\n",
        "differences = np.abs(y_pred - sklearn_predictions)\n",
        "average_difference = np.mean(differences)\n",
        "\n",
        "print(\"Average Difference Between Predictions:\", average_difference)\n"
      ],
      "metadata": {
        "colab": {
          "base_uri": "https://localhost:8080/"
        },
        "id": "PLkgCENsz1SU",
        "outputId": "99ee5c1c-85e7-4550-83bf-9560e0969180"
      },
      "execution_count": 26,
      "outputs": [
        {
          "output_type": "stream",
          "name": "stdout",
          "text": [
            "X_train shape: (614, 8)\n",
            "Y_train shape: (614,)\n",
            "Scikit-learn KNN Accuracy: 0.7272727272727273\n",
            "Average Difference Between Predictions: 0.0\n"
          ]
        }
      ]
    }
  ]
}